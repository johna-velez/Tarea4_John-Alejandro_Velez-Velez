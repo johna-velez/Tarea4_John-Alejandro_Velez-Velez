{
 "cells": [
  {
   "cell_type": "markdown",
   "metadata": {},
   "source": [
    "# John Alejandro Velez Velez\n",
    "\n",
    "# CC. 1026156088"
   ]
  },
  {
   "cell_type": "code",
   "execution_count": 136,
   "metadata": {},
   "outputs": [],
   "source": [
    "import pandas as pd\n",
    "from numpy import sqrt,e"
   ]
  },
  {
   "cell_type": "code",
   "execution_count": 137,
   "metadata": {},
   "outputs": [],
   "source": [
    "#constantes necesarias:\n",
    "\n",
    "ai=2.7619/e**(5)\n",
    "bi=3.8095/e**(9)\n",
    "ao=1.3786/e**(4)\n",
    "bo=1.4286/e**(9)\n",
    "ris=0.72\n",
    "ros=1.77\n",
    "ts=5780\n",
    "ls=3.827*10**26 # luminosidad del sol\n",
    "\n"
   ]
  },
  {
   "cell_type": "code",
   "execution_count": 139,
   "metadata": {},
   "outputs": [],
   "source": [
    "# funciones para crear las columnas que se piden\n",
    "\n",
    "def convertmass(kj):\n",
    "    # la masa de jupiter es 317.83 veces la masa de la tierra\n",
    "    ke=317.83\n",
    "    me=kj*ke #masa con respecto a la tierra\n",
    "    return(me)\n",
    "\n",
    "def convertrad(kj):\n",
    "    # el radio de jupiter es 11.209 veces el de la tierra\n",
    "    ke=11.209\n",
    "    re=kj*ke\n",
    "    return(re)\n",
    "\n",
    "def  lum(Test,rj):\n",
    "    \n",
    "    # el numero de radios solares del planeta esta dado por: \n",
    "    rs=0.10045*rj  # 0.10045 las veces que esta el radio de jupiter en el del sol\n",
    "    \n",
    "    #numero de veces que esta la temperatura efectiva en la solar:\n",
    "    keff=Test/5778 # 5778 es la temperatura efectiva del sol\n",
    "    \n",
    "    # de esta manera la luminosidad dada en terminos de la luminosidad del sol es:\n",
    "    l=rs*rs*keff*keff*keff*keff\n",
    "    \n",
    "    return(l)\n",
    "\n",
    "def ri(teff,l):\n",
    "    ri=(ris-ai*(teff-ts)-bi*(teff-ts)*(teff-ts))*sqrt(l)\n",
    "    return(ri)\n",
    "\n",
    "def ro(teff,l):\n",
    "    ro=(ros-ao*(teff-ts)-bo*(teff-ts)*(teff-ts))*sqrt(l)\n",
    "    return(ro)"
   ]
  },
  {
   "cell_type": "code",
   "execution_count": 140,
   "metadata": {
    "scrolled": true
   },
   "outputs": [
    {
     "name": "stderr",
     "output_type": "stream",
     "text": [
      "C:\\Users\\USUARIO\\anaconda3\\lib\\site-packages\\IPython\\core\\interactiveshell.py:3071: DtypeWarning: Columns (4,5,10,11,17,18,23,24,26,27,30,33,38,39,44,45,50,51,56,57,62,63,70,71,73,74,79,80,81,82,88,89,95,96,105,106,109,110,115,116,117,124,125,130,131,137,143,144,149,150,159,160,161,162,172,173,174,179,180,182,188,189,195,196,201,202,205,206,211,212,217,218,223,224,229,230,235,236,241,242,247,248,253,254,259,260,265,266,268,269,270,271,273,278,279,284,285,290,291,294,295,301,302,304,305,310,311) have mixed types.Specify dtype option on import or set low_memory=False.\n",
      "  has_raised = await self.run_ast_nodes(code_ast.body, cell_name,\n"
     ]
    }
   ],
   "source": [
    "#trae el arcchivo al jupyter:\n",
    "File=\"exoplanets.csv\" \n",
    "# genera el DF del archivo:\n",
    "exop=pd.read_csv(\"exoplanets.csv\") \n",
    "\n",
    "exo=exop[['NAME','TEFF','MASS','A','DENSITY','R','STAR','MSTAR','RSTAR','BINARY']] #nos crea el DF con los datos pedidos\n",
    "exo=exo.dropna() #nos deja los valores del DF que tienen toda la informacion completa\n",
    "\n",
    "# elimina las filas con valor BYNARY igual a cero:\n",
    "exo=exo.drop(exo[exo['BINARY']==0.0].index) \n",
    "\n",
    "# nos crea la columna en masas de la tierra:\n",
    "exo['MASSE']=convertmass(exo['MASS']) \n",
    "\n",
    "# nos crea la columna en radios terrestres:\n",
    "exo['RE']=convertrad(exo['R']) \n",
    "\n",
    "#nos crea la columna de luminosidad:\n",
    "exo['LUM']=lum(exo['TEFF'],exo['RSTAR']) \n",
    "\n",
    "# nos crean las columnas con los radios interior y exterior:\n",
    "exo['ri']=ri(exo['TEFF'],exo['LUM'])\n",
    "exo['ro']=ro(exo['TEFF'],exo['LUM'])\n",
    "\n",
    "# nos crea el DF solo con los planetas rocosos, esta eliminando los planetas con densidad menor a 5:\n",
    "roc=exo[['NAME','DENSITY']].drop(exo[exo['DENSITY']<5].index)\n",
    "\n",
    "# crea el DF con los planetas en la zona de habitabilidad\n",
    "# primero elimina los que tienen semieje mayor con valor menor al radio interior\n",
    "# y luego elimina los que tienen semieje mayor con valor mayor al radio interior\n",
    "ha=exo.drop(exo[exo['A']<exo['ri']].index)\n",
    "ha=ha.drop(exo[exo['A']>exo['ro']].index)\n",
    "\n",
    "#exo.head()\n",
    "\n",
    "#ha.head()"
   ]
  },
  {
   "cell_type": "code",
   "execution_count": 141,
   "metadata": {},
   "outputs": [
    {
     "name": "stdout",
     "output_type": "stream",
     "text": [
      "planetas con probabilidad con ser rocosos\n"
     ]
    },
    {
     "data": {
      "text/html": [
       "<div>\n",
       "<style scoped>\n",
       "    .dataframe tbody tr th:only-of-type {\n",
       "        vertical-align: middle;\n",
       "    }\n",
       "\n",
       "    .dataframe tbody tr th {\n",
       "        vertical-align: top;\n",
       "    }\n",
       "\n",
       "    .dataframe thead th {\n",
       "        text-align: right;\n",
       "    }\n",
       "</style>\n",
       "<table border=\"1\" class=\"dataframe\">\n",
       "  <thead>\n",
       "    <tr style=\"text-align: right;\">\n",
       "      <th></th>\n",
       "      <th>NAME</th>\n",
       "      <th>DENSITY</th>\n",
       "    </tr>\n",
       "  </thead>\n",
       "  <tbody>\n",
       "    <tr>\n",
       "      <th>14</th>\n",
       "      <td>Kepler-20 b</td>\n",
       "      <td>6.50000</td>\n",
       "    </tr>\n",
       "    <tr>\n",
       "      <th>200</th>\n",
       "      <td>Kepler-10 b</td>\n",
       "      <td>8.80000</td>\n",
       "    </tr>\n",
       "    <tr>\n",
       "      <th>700</th>\n",
       "      <td>HD 80606 b</td>\n",
       "      <td>7.94618</td>\n",
       "    </tr>\n",
       "    <tr>\n",
       "      <th>765</th>\n",
       "      <td>Kepler-10 c</td>\n",
       "      <td>5.00000</td>\n",
       "    </tr>\n",
       "    <tr>\n",
       "      <th>1011</th>\n",
       "      <td>Kepler-97 b</td>\n",
       "      <td>5.44000</td>\n",
       "    </tr>\n",
       "  </tbody>\n",
       "</table>\n",
       "</div>"
      ],
      "text/plain": [
       "             NAME  DENSITY\n",
       "14    Kepler-20 b  6.50000\n",
       "200   Kepler-10 b  8.80000\n",
       "700    HD 80606 b  7.94618\n",
       "765   Kepler-10 c  5.00000\n",
       "1011  Kepler-97 b  5.44000"
      ]
     },
     "execution_count": 141,
     "metadata": {},
     "output_type": "execute_result"
    }
   ],
   "source": [
    "print('planetas con probabilidad con ser rocosos')\n",
    "roc.head()"
   ]
  },
  {
   "cell_type": "code",
   "execution_count": 142,
   "metadata": {},
   "outputs": [
    {
     "name": "stdout",
     "output_type": "stream",
     "text": [
      "planetas con probabilidad de ser habitables\n"
     ]
    },
    {
     "data": {
      "text/html": [
       "<div>\n",
       "<style scoped>\n",
       "    .dataframe tbody tr th:only-of-type {\n",
       "        vertical-align: middle;\n",
       "    }\n",
       "\n",
       "    .dataframe tbody tr th {\n",
       "        vertical-align: top;\n",
       "    }\n",
       "\n",
       "    .dataframe thead th {\n",
       "        text-align: right;\n",
       "    }\n",
       "</style>\n",
       "<table border=\"1\" class=\"dataframe\">\n",
       "  <thead>\n",
       "    <tr style=\"text-align: right;\">\n",
       "      <th></th>\n",
       "      <th>NAME</th>\n",
       "      <th>TEFF</th>\n",
       "      <th>MASS</th>\n",
       "      <th>A</th>\n",
       "      <th>DENSITY</th>\n",
       "      <th>R</th>\n",
       "      <th>STAR</th>\n",
       "      <th>MSTAR</th>\n",
       "      <th>RSTAR</th>\n",
       "      <th>BINARY</th>\n",
       "      <th>MASSE</th>\n",
       "      <th>RE</th>\n",
       "      <th>LUM</th>\n",
       "      <th>ri</th>\n",
       "      <th>ro</th>\n",
       "    </tr>\n",
       "  </thead>\n",
       "  <tbody>\n",
       "    <tr>\n",
       "      <th>29</th>\n",
       "      <td>Kepler-11 c</td>\n",
       "      <td>5663.0</td>\n",
       "      <td>0.009124</td>\n",
       "      <td>0.106909</td>\n",
       "      <td>0.66</td>\n",
       "      <td>0.255816</td>\n",
       "      <td>Kepler-11</td>\n",
       "      <td>0.961</td>\n",
       "      <td>1.065</td>\n",
       "      <td>1.0</td>\n",
       "      <td>2.899999</td>\n",
       "      <td>2.867442</td>\n",
       "      <td>0.010560</td>\n",
       "      <td>-0.363606</td>\n",
       "      <td>0.237468</td>\n",
       "    </tr>\n",
       "    <tr>\n",
       "      <th>200</th>\n",
       "      <td>Kepler-10 b</td>\n",
       "      <td>5627.0</td>\n",
       "      <td>0.014282</td>\n",
       "      <td>0.016757</td>\n",
       "      <td>8.80</td>\n",
       "      <td>0.126327</td>\n",
       "      <td>Kepler-10</td>\n",
       "      <td>0.895</td>\n",
       "      <td>1.056</td>\n",
       "      <td>1.0</td>\n",
       "      <td>4.539375</td>\n",
       "      <td>1.415999</td>\n",
       "      <td>0.010121</td>\n",
       "      <td>-0.748289</td>\n",
       "      <td>0.151525</td>\n",
       "    </tr>\n",
       "    <tr>\n",
       "      <th>461</th>\n",
       "      <td>Kepler-11 b</td>\n",
       "      <td>5663.0</td>\n",
       "      <td>0.005978</td>\n",
       "      <td>0.091450</td>\n",
       "      <td>1.72</td>\n",
       "      <td>0.160400</td>\n",
       "      <td>Kepler-11</td>\n",
       "      <td>0.961</td>\n",
       "      <td>1.065</td>\n",
       "      <td>1.0</td>\n",
       "      <td>1.900000</td>\n",
       "      <td>1.797924</td>\n",
       "      <td>0.010560</td>\n",
       "      <td>-0.363606</td>\n",
       "      <td>0.237468</td>\n",
       "    </tr>\n",
       "    <tr>\n",
       "      <th>1397</th>\n",
       "      <td>Kepler-96 b</td>\n",
       "      <td>5690.0</td>\n",
       "      <td>0.026166</td>\n",
       "      <td>0.125499</td>\n",
       "      <td>2.26</td>\n",
       "      <td>0.238201</td>\n",
       "      <td>Kepler-96</td>\n",
       "      <td>1.000</td>\n",
       "      <td>1.020</td>\n",
       "      <td>1.0</td>\n",
       "      <td>8.316308</td>\n",
       "      <td>2.669995</td>\n",
       "      <td>0.009873</td>\n",
       "      <td>-0.140417</td>\n",
       "      <td>0.259775</td>\n",
       "    </tr>\n",
       "    <tr>\n",
       "      <th>1398</th>\n",
       "      <td>Kepler-11 d</td>\n",
       "      <td>5663.0</td>\n",
       "      <td>0.022968</td>\n",
       "      <td>0.154764</td>\n",
       "      <td>1.28</td>\n",
       "      <td>0.278100</td>\n",
       "      <td>Kepler-11</td>\n",
       "      <td>0.961</td>\n",
       "      <td>1.065</td>\n",
       "      <td>1.0</td>\n",
       "      <td>7.300015</td>\n",
       "      <td>3.117223</td>\n",
       "      <td>0.010560</td>\n",
       "      <td>-0.363606</td>\n",
       "      <td>0.237468</td>\n",
       "    </tr>\n",
       "  </tbody>\n",
       "</table>\n",
       "</div>"
      ],
      "text/plain": [
       "             NAME    TEFF      MASS         A  DENSITY         R       STAR  \\\n",
       "29    Kepler-11 c  5663.0  0.009124  0.106909     0.66  0.255816  Kepler-11   \n",
       "200   Kepler-10 b  5627.0  0.014282  0.016757     8.80  0.126327  Kepler-10   \n",
       "461   Kepler-11 b  5663.0  0.005978  0.091450     1.72  0.160400  Kepler-11   \n",
       "1397  Kepler-96 b  5690.0  0.026166  0.125499     2.26  0.238201  Kepler-96   \n",
       "1398  Kepler-11 d  5663.0  0.022968  0.154764     1.28  0.278100  Kepler-11   \n",
       "\n",
       "      MSTAR  RSTAR  BINARY     MASSE        RE       LUM        ri        ro  \n",
       "29    0.961  1.065     1.0  2.899999  2.867442  0.010560 -0.363606  0.237468  \n",
       "200   0.895  1.056     1.0  4.539375  1.415999  0.010121 -0.748289  0.151525  \n",
       "461   0.961  1.065     1.0  1.900000  1.797924  0.010560 -0.363606  0.237468  \n",
       "1397  1.000  1.020     1.0  8.316308  2.669995  0.009873 -0.140417  0.259775  \n",
       "1398  0.961  1.065     1.0  7.300015  3.117223  0.010560 -0.363606  0.237468  "
      ]
     },
     "execution_count": 142,
     "metadata": {},
     "output_type": "execute_result"
    }
   ],
   "source": [
    "print('planetas con probabilidad de ser habitables')\n",
    "\n",
    "ha.head()"
   ]
  },
  {
   "cell_type": "code",
   "execution_count": 143,
   "metadata": {},
   "outputs": [
    {
     "data": {
      "text/plain": [
       "<matplotlib.axes._subplots.AxesSubplot at 0x802e028>"
      ]
     },
     "execution_count": 143,
     "metadata": {},
     "output_type": "execute_result"
    },
    {
     "data": {
      "image/png": "[encoded data removed]",
      "text/plain": [
       "<Figure size 432x288 with 1 Axes>"
      ]
     },
     "metadata": {
      "needs_background": "light"
     },
     "output_type": "display_data"
    }
   ],
   "source": [
    "ha.plot(kind='scatter',y='MSTAR',x='A',title='MASA DE LA ESTRELLA VS DISTANCIA AL PLANETA')"
   ]
  },
  {
   "cell_type": "code",
   "execution_count": 144,
   "metadata": {},
   "outputs": [
    {
     "data": {
      "text/plain": [
       "<matplotlib.axes._subplots.AxesSubplot at 0x772c508>"
      ]
     },
     "execution_count": 144,
     "metadata": {},
     "output_type": "execute_result"
    },
    {
     "data": {
      "image/png": "[encoded data removed]",
      "text/plain": [
       "<Figure size 432x288 with 1 Axes>"
      ]
     },
     "metadata": {
      "needs_background": "light"
     },
     "output_type": "display_data"
    }
   ],
   "source": [
    "# NOS DICE EL NUMERO DE PLANETAS QUE ORBITAN ALREDEDOR DE CIERTA ESTRELLA EN LA ZONA DE HABITABILIDAD\n",
    "ha['STAR'].hist()"
   ]
  },
  {
   "cell_type": "code",
   "execution_count": 145,
   "metadata": {},
   "outputs": [
    {
     "data": {
      "text/plain": [
       "<matplotlib.axes._subplots.AxesSubplot at 0x82795b0>"
      ]
     },
     "execution_count": 145,
     "metadata": {},
     "output_type": "execute_result"
    },
    {
     "data": {
      "image/png": "[encoded data removed]",
      "text/plain": [
       "<Figure size 432x288 with 1 Axes>"
      ]
     },
     "metadata": {
      "needs_background": "light"
     },
     "output_type": "display_data"
    }
   ],
   "source": [
    "ha.plot(kind='scatter',x='MSTAR',y='DENSITY',title='DENSIDAD VS MASA DE LA ESTRELLA')"
   ]
  },
  {
   "cell_type": "code",
   "execution_count": 146,
   "metadata": {},
   "outputs": [
    {
     "data": {
      "text/plain": [
       "<matplotlib.axes._subplots.AxesSubplot at 0x7f0c628>"
      ]
     },
     "execution_count": 146,
     "metadata": {},
     "output_type": "execute_result"
    },
    {
     "data": {
      "image/png": "[encoded data removed]",
      "text/plain": [
       "<Figure size 432x288 with 1 Axes>"
      ]
     },
     "metadata": {
      "needs_background": "light"
     },
     "output_type": "display_data"
    }
   ],
   "source": [
    "ha.plot(kind='scatter',x='TEFF',y='A',title='DISTANCIA DE LA ESTRELLA VS TEMPERATURA EFECTIVA')"
   ]
  },
  {
   "cell_type": "code",
   "execution_count": null,
   "metadata": {},
   "outputs": [],
   "source": []
  },
  {
   "cell_type": "code",
   "execution_count": null,
   "metadata": {},
   "outputs": [],
   "source": []
  }
 ],
 "metadata": {
  "kernelspec": {
   "display_name": "Python 3",
   "language": "python",
   "name": "python3"
  },
  "language_info": {
   "codemirror_mode": {
    "name": "ipython",
    "version": 3
   },
   "file_extension": ".py",
   "mimetype": "text/x-python",
   "name": "python",
   "nbconvert_exporter": "python",
   "pygments_lexer": "ipython3",
   "version": "3.8.3"
  }
 },
 "nbformat": 4,
 "nbformat_minor": 4
}
